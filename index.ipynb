{
 "cells": [
  {
   "cell_type": "markdown",
   "metadata": {},
   "source": [
    "# Model Fit in Linear Regression - Lab\n",
    "\n",
    "## Introduction\n",
    "In this lab, you'll learn how to evaluate your model results and you'll learn how to select the appropriate features using stepwise selection.\n",
    "\n",
    "## Objectives\n",
    "You will be able to:\n",
    "* Use stepwise selection methods to determine the most important features for a model\n",
    "* Use recursive feature elimination to determine the most important features for a model\n",
    "\n",
    "## The Ames Housing Data once more"
   ]
  },
  {
   "cell_type": "code",
   "execution_count": 1,
   "metadata": {},
   "outputs": [],
   "source": [
    "import pandas as pd\n",
    "import numpy as np\n",
    "\n",
    "ames = pd.read_csv('ames.csv')\n",
    "\n",
    "continuous = ['LotArea', '1stFlrSF', 'GrLivArea', 'SalePrice']\n",
    "categoricals = ['BldgType', 'KitchenQual', 'SaleType', 'MSZoning', 'Street', 'Neighborhood']\n",
    "\n",
    "ames_cont = ames[continuous]\n",
    "\n",
    "# log features\n",
    "log_names = [f'{column}_log' for column in ames_cont.columns]\n",
    "\n",
    "ames_log = np.log(ames_cont)\n",
    "ames_log.columns = log_names\n",
    "\n",
    "# normalize (subract mean and divide by std)\n",
    "\n",
    "def normalize(feature):\n",
    "    return (feature - feature.mean()) / feature.std()\n",
    "\n",
    "ames_log_norm = ames_log.apply(normalize)\n",
    "\n",
    "# one hot encode categoricals\n",
    "ames_ohe = pd.get_dummies(ames[categoricals], prefix=categoricals, drop_first=True)\n",
    "\n",
    "preprocessed = pd.concat([ames_log_norm, ames_ohe], axis=1)"
   ]
  },
  {
   "cell_type": "markdown",
   "metadata": {},
   "source": [
    "## Perform stepwise selection"
   ]
  },
  {
   "cell_type": "markdown",
   "metadata": {},
   "source": [
    "The function for stepwise selection is copied below. Use this provided function on your preprocessed Ames Housing data."
   ]
  },
  {
   "cell_type": "code",
   "execution_count": 2,
   "metadata": {},
   "outputs": [],
   "source": [
    "import statsmodels.api as sm\n",
    "\n",
    "def stepwise_selection(X, y, \n",
    "                       initial_list=[], \n",
    "                       threshold_in=0.01, \n",
    "                       threshold_out = 0.05, \n",
    "                       verbose=True):\n",
    "    \"\"\" \n",
    "    Perform a forward-backward feature selection \n",
    "    based on p-value from statsmodels.api.OLS\n",
    "    Arguments:\n",
    "        X - pandas.DataFrame with candidate features\n",
    "        y - list-like with the target\n",
    "        initial_list - list of features to start with (column names of X)\n",
    "        threshold_in - include a feature if its p-value < threshold_in\n",
    "        threshold_out - exclude a feature if its p-value > threshold_out\n",
    "        verbose - whether to print the sequence of inclusions and exclusions\n",
    "    Returns: list of selected features \n",
    "    Always set threshold_in < threshold_out to avoid infinite looping.\n",
    "    See https://en.wikipedia.org/wiki/Stepwise_regression for the details\n",
    "    \"\"\"\n",
    "    included = list(initial_list)\n",
    "    while True:\n",
    "        changed=False\n",
    "        # forward step\n",
    "        excluded = list(set(X.columns)-set(included))\n",
    "        new_pval = pd.Series(index=excluded, dtype='float')\n",
    "        for new_column in excluded:\n",
    "            model = sm.OLS(y, sm.add_constant(pd.DataFrame(X[included+[new_column]]))).fit()\n",
    "            new_pval[new_column] = model.pvalues[new_column]\n",
    "        best_pval = new_pval.min()\n",
    "        if best_pval < threshold_in:\n",
    "            best_feature = new_pval.idxmin()\n",
    "            included.append(best_feature)\n",
    "            changed=True\n",
    "            if verbose:\n",
    "                print('Add  {:30} with p-value {:.6}'.format(best_feature, best_pval))\n",
    "\n",
    "        # backward step\n",
    "        model = sm.OLS(y, sm.add_constant(pd.DataFrame(X[included]))).fit()\n",
    "        # use all coefs except intercept\n",
    "        pvalues = model.pvalues.iloc[1:]\n",
    "        worst_pval = pvalues.max() # null if pvalues is empty\n",
    "        if worst_pval > threshold_out:\n",
    "            changed=True\n",
    "            #worst_feature = pvalues.argmax()\n",
    "            worst_feature = pvalues.idxmax()\n",
    "            included.remove(worst_feature)\n",
    "            if verbose:\n",
    "                print('Drop {:30} with p-value {:.6}'.format(worst_feature, worst_pval))\n",
    "        if not changed:\n",
    "            break\n",
    "    return included"
   ]
  },
  {
   "cell_type": "code",
   "execution_count": 3,
   "metadata": {
    "scrolled": false
   },
   "outputs": [
    {
     "data": {
      "text/plain": [
       "['GrLivArea_log',\n",
       " 'KitchenQual_TA',\n",
       " '1stFlrSF_log',\n",
       " 'KitchenQual_Fa',\n",
       " 'Neighborhood_OldTown',\n",
       " 'KitchenQual_Gd',\n",
       " 'Neighborhood_Edwards',\n",
       " 'Neighborhood_IDOTRR',\n",
       " 'LotArea_log',\n",
       " 'Neighborhood_NridgHt',\n",
       " 'BldgType_Duplex',\n",
       " 'Neighborhood_NAmes',\n",
       " 'Neighborhood_SWISU',\n",
       " 'Neighborhood_BrkSide',\n",
       " 'Neighborhood_Sawyer',\n",
       " 'Neighborhood_NoRidge',\n",
       " 'Neighborhood_StoneBr',\n",
       " 'Neighborhood_MeadowV',\n",
       " 'SaleType_New',\n",
       " 'Neighborhood_BrDale',\n",
       " 'MSZoning_RM',\n",
       " 'MSZoning_RL',\n",
       " 'MSZoning_FV',\n",
       " 'MSZoning_RH',\n",
       " 'Neighborhood_NWAmes',\n",
       " 'Neighborhood_Mitchel',\n",
       " 'Neighborhood_SawyerW']"
      ]
     },
     "execution_count": 3,
     "metadata": {},
     "output_type": "execute_result"
    }
   ],
   "source": [
    "# Your code here\n",
    "x = preprocessed.drop('SalePrice_log', axis=1)\n",
    "y = preprocessed['SalePrice_log']\n",
    "\n",
    "res = stepwise_selection(x, y, verbose=False)\n",
    "res"
   ]
  },
  {
   "cell_type": "markdown",
   "metadata": {},
   "source": [
    "### Build the final model again in Statsmodels"
   ]
  },
  {
   "cell_type": "code",
   "execution_count": 4,
   "metadata": {},
   "outputs": [
    {
     "data": {
      "text/html": [
       "<table class=\"simpletable\">\n",
       "<caption>OLS Regression Results</caption>\n",
       "<tr>\n",
       "  <th>Dep. Variable:</th>      <td>SalePrice_log</td>  <th>  R-squared:         </th> <td>   0.835</td>\n",
       "</tr>\n",
       "<tr>\n",
       "  <th>Model:</th>                   <td>OLS</td>       <th>  Adj. R-squared:    </th> <td>   0.832</td>\n",
       "</tr>\n",
       "<tr>\n",
       "  <th>Method:</th>             <td>Least Squares</td>  <th>  F-statistic:       </th> <td>   269.0</td>\n",
       "</tr>\n",
       "<tr>\n",
       "  <th>Date:</th>             <td>Sat, 05 Dec 2020</td> <th>  Prob (F-statistic):</th>  <td>  0.00</td> \n",
       "</tr>\n",
       "<tr>\n",
       "  <th>Time:</th>                 <td>18:35:34</td>     <th>  Log-Likelihood:    </th> <td> -754.40</td>\n",
       "</tr>\n",
       "<tr>\n",
       "  <th>No. Observations:</th>      <td>  1460</td>      <th>  AIC:               </th> <td>   1565.</td>\n",
       "</tr>\n",
       "<tr>\n",
       "  <th>Df Residuals:</th>          <td>  1432</td>      <th>  BIC:               </th> <td>   1713.</td>\n",
       "</tr>\n",
       "<tr>\n",
       "  <th>Df Model:</th>              <td>    27</td>      <th>                     </th>     <td> </td>   \n",
       "</tr>\n",
       "<tr>\n",
       "  <th>Covariance Type:</th>      <td>nonrobust</td>    <th>                     </th>     <td> </td>   \n",
       "</tr>\n",
       "</table>\n",
       "<table class=\"simpletable\">\n",
       "<tr>\n",
       "            <td></td>              <th>coef</th>     <th>std err</th>      <th>t</th>      <th>P>|t|</th>  <th>[0.025</th>    <th>0.975]</th>  \n",
       "</tr>\n",
       "<tr>\n",
       "  <th>const</th>                <td>   -0.2174</td> <td>    0.164</td> <td>   -1.323</td> <td> 0.186</td> <td>   -0.540</td> <td>    0.105</td>\n",
       "</tr>\n",
       "<tr>\n",
       "  <th>GrLivArea_log</th>        <td>    0.3694</td> <td>    0.015</td> <td>   24.477</td> <td> 0.000</td> <td>    0.340</td> <td>    0.399</td>\n",
       "</tr>\n",
       "<tr>\n",
       "  <th>KitchenQual_TA</th>       <td>   -0.7020</td> <td>    0.055</td> <td>  -12.859</td> <td> 0.000</td> <td>   -0.809</td> <td>   -0.595</td>\n",
       "</tr>\n",
       "<tr>\n",
       "  <th>1stFlrSF_log</th>         <td>    0.1445</td> <td>    0.015</td> <td>    9.645</td> <td> 0.000</td> <td>    0.115</td> <td>    0.174</td>\n",
       "</tr>\n",
       "<tr>\n",
       "  <th>KitchenQual_Fa</th>       <td>   -1.0372</td> <td>    0.087</td> <td>  -11.864</td> <td> 0.000</td> <td>   -1.209</td> <td>   -0.866</td>\n",
       "</tr>\n",
       "<tr>\n",
       "  <th>Neighborhood_OldTown</th> <td>   -0.8625</td> <td>    0.063</td> <td>  -13.615</td> <td> 0.000</td> <td>   -0.987</td> <td>   -0.738</td>\n",
       "</tr>\n",
       "<tr>\n",
       "  <th>KitchenQual_Gd</th>       <td>   -0.4021</td> <td>    0.050</td> <td>   -8.046</td> <td> 0.000</td> <td>   -0.500</td> <td>   -0.304</td>\n",
       "</tr>\n",
       "<tr>\n",
       "  <th>Neighborhood_Edwards</th> <td>   -0.7019</td> <td>    0.048</td> <td>  -14.530</td> <td> 0.000</td> <td>   -0.797</td> <td>   -0.607</td>\n",
       "</tr>\n",
       "<tr>\n",
       "  <th>Neighborhood_IDOTRR</th>  <td>   -0.8583</td> <td>    0.097</td> <td>   -8.855</td> <td> 0.000</td> <td>   -1.048</td> <td>   -0.668</td>\n",
       "</tr>\n",
       "<tr>\n",
       "  <th>LotArea_log</th>          <td>    0.1096</td> <td>    0.015</td> <td>    7.387</td> <td> 0.000</td> <td>    0.081</td> <td>    0.139</td>\n",
       "</tr>\n",
       "<tr>\n",
       "  <th>Neighborhood_NridgHt</th> <td>    0.3854</td> <td>    0.057</td> <td>    6.809</td> <td> 0.000</td> <td>    0.274</td> <td>    0.496</td>\n",
       "</tr>\n",
       "<tr>\n",
       "  <th>BldgType_Duplex</th>      <td>   -0.4073</td> <td>    0.061</td> <td>   -6.678</td> <td> 0.000</td> <td>   -0.527</td> <td>   -0.288</td>\n",
       "</tr>\n",
       "<tr>\n",
       "  <th>Neighborhood_NAmes</th>   <td>   -0.3763</td> <td>    0.038</td> <td>   -9.981</td> <td> 0.000</td> <td>   -0.450</td> <td>   -0.302</td>\n",
       "</tr>\n",
       "<tr>\n",
       "  <th>Neighborhood_SWISU</th>   <td>   -0.6263</td> <td>    0.089</td> <td>   -7.020</td> <td> 0.000</td> <td>   -0.801</td> <td>   -0.451</td>\n",
       "</tr>\n",
       "<tr>\n",
       "  <th>Neighborhood_BrkSide</th> <td>   -0.5641</td> <td>    0.066</td> <td>   -8.493</td> <td> 0.000</td> <td>   -0.694</td> <td>   -0.434</td>\n",
       "</tr>\n",
       "<tr>\n",
       "  <th>Neighborhood_Sawyer</th>  <td>   -0.4026</td> <td>    0.055</td> <td>   -7.342</td> <td> 0.000</td> <td>   -0.510</td> <td>   -0.295</td>\n",
       "</tr>\n",
       "<tr>\n",
       "  <th>Neighborhood_NoRidge</th> <td>    0.4347</td> <td>    0.070</td> <td>    6.221</td> <td> 0.000</td> <td>    0.298</td> <td>    0.572</td>\n",
       "</tr>\n",
       "<tr>\n",
       "  <th>Neighborhood_StoneBr</th> <td>    0.4538</td> <td>    0.087</td> <td>    5.226</td> <td> 0.000</td> <td>    0.283</td> <td>    0.624</td>\n",
       "</tr>\n",
       "<tr>\n",
       "  <th>Neighborhood_MeadowV</th> <td>   -0.6622</td> <td>    0.118</td> <td>   -5.592</td> <td> 0.000</td> <td>   -0.895</td> <td>   -0.430</td>\n",
       "</tr>\n",
       "<tr>\n",
       "  <th>SaleType_New</th>         <td>    0.1483</td> <td>    0.044</td> <td>    3.388</td> <td> 0.001</td> <td>    0.062</td> <td>    0.234</td>\n",
       "</tr>\n",
       "<tr>\n",
       "  <th>Neighborhood_BrDale</th>  <td>   -0.4733</td> <td>    0.123</td> <td>   -3.839</td> <td> 0.000</td> <td>   -0.715</td> <td>   -0.231</td>\n",
       "</tr>\n",
       "<tr>\n",
       "  <th>MSZoning_RM</th>          <td>    1.0820</td> <td>    0.147</td> <td>    7.363</td> <td> 0.000</td> <td>    0.794</td> <td>    1.370</td>\n",
       "</tr>\n",
       "<tr>\n",
       "  <th>MSZoning_RL</th>          <td>    0.9916</td> <td>    0.156</td> <td>    6.356</td> <td> 0.000</td> <td>    0.686</td> <td>    1.298</td>\n",
       "</tr>\n",
       "<tr>\n",
       "  <th>MSZoning_FV</th>          <td>    1.2052</td> <td>    0.165</td> <td>    7.284</td> <td> 0.000</td> <td>    0.881</td> <td>    1.530</td>\n",
       "</tr>\n",
       "<tr>\n",
       "  <th>MSZoning_RH</th>          <td>    0.8503</td> <td>    0.189</td> <td>    4.490</td> <td> 0.000</td> <td>    0.479</td> <td>    1.222</td>\n",
       "</tr>\n",
       "<tr>\n",
       "  <th>Neighborhood_NWAmes</th>  <td>   -0.2055</td> <td>    0.054</td> <td>   -3.837</td> <td> 0.000</td> <td>   -0.311</td> <td>   -0.100</td>\n",
       "</tr>\n",
       "<tr>\n",
       "  <th>Neighborhood_Mitchel</th> <td>   -0.1943</td> <td>    0.065</td> <td>   -3.004</td> <td> 0.003</td> <td>   -0.321</td> <td>   -0.067</td>\n",
       "</tr>\n",
       "<tr>\n",
       "  <th>Neighborhood_SawyerW</th> <td>   -0.1666</td> <td>    0.058</td> <td>   -2.862</td> <td> 0.004</td> <td>   -0.281</td> <td>   -0.052</td>\n",
       "</tr>\n",
       "</table>\n",
       "<table class=\"simpletable\">\n",
       "<tr>\n",
       "  <th>Omnibus:</th>       <td>295.535</td> <th>  Durbin-Watson:     </th> <td>   1.965</td> \n",
       "</tr>\n",
       "<tr>\n",
       "  <th>Prob(Omnibus):</th> <td> 0.000</td>  <th>  Jarque-Bera (JB):  </th> <td>1270.571</td> \n",
       "</tr>\n",
       "<tr>\n",
       "  <th>Skew:</th>          <td>-0.903</td>  <th>  Prob(JB):          </th> <td>1.26e-276</td>\n",
       "</tr>\n",
       "<tr>\n",
       "  <th>Kurtosis:</th>      <td> 7.198</td>  <th>  Cond. No.          </th> <td>    48.7</td> \n",
       "</tr>\n",
       "</table><br/><br/>Warnings:<br/>[1] Standard Errors assume that the covariance matrix of the errors is correctly specified."
      ],
      "text/plain": [
       "<class 'statsmodels.iolib.summary.Summary'>\n",
       "\"\"\"\n",
       "                            OLS Regression Results                            \n",
       "==============================================================================\n",
       "Dep. Variable:          SalePrice_log   R-squared:                       0.835\n",
       "Model:                            OLS   Adj. R-squared:                  0.832\n",
       "Method:                 Least Squares   F-statistic:                     269.0\n",
       "Date:                Sat, 05 Dec 2020   Prob (F-statistic):               0.00\n",
       "Time:                        18:35:34   Log-Likelihood:                -754.40\n",
       "No. Observations:                1460   AIC:                             1565.\n",
       "Df Residuals:                    1432   BIC:                             1713.\n",
       "Df Model:                          27                                         \n",
       "Covariance Type:            nonrobust                                         \n",
       "========================================================================================\n",
       "                           coef    std err          t      P>|t|      [0.025      0.975]\n",
       "----------------------------------------------------------------------------------------\n",
       "const                   -0.2174      0.164     -1.323      0.186      -0.540       0.105\n",
       "GrLivArea_log            0.3694      0.015     24.477      0.000       0.340       0.399\n",
       "KitchenQual_TA          -0.7020      0.055    -12.859      0.000      -0.809      -0.595\n",
       "1stFlrSF_log             0.1445      0.015      9.645      0.000       0.115       0.174\n",
       "KitchenQual_Fa          -1.0372      0.087    -11.864      0.000      -1.209      -0.866\n",
       "Neighborhood_OldTown    -0.8625      0.063    -13.615      0.000      -0.987      -0.738\n",
       "KitchenQual_Gd          -0.4021      0.050     -8.046      0.000      -0.500      -0.304\n",
       "Neighborhood_Edwards    -0.7019      0.048    -14.530      0.000      -0.797      -0.607\n",
       "Neighborhood_IDOTRR     -0.8583      0.097     -8.855      0.000      -1.048      -0.668\n",
       "LotArea_log              0.1096      0.015      7.387      0.000       0.081       0.139\n",
       "Neighborhood_NridgHt     0.3854      0.057      6.809      0.000       0.274       0.496\n",
       "BldgType_Duplex         -0.4073      0.061     -6.678      0.000      -0.527      -0.288\n",
       "Neighborhood_NAmes      -0.3763      0.038     -9.981      0.000      -0.450      -0.302\n",
       "Neighborhood_SWISU      -0.6263      0.089     -7.020      0.000      -0.801      -0.451\n",
       "Neighborhood_BrkSide    -0.5641      0.066     -8.493      0.000      -0.694      -0.434\n",
       "Neighborhood_Sawyer     -0.4026      0.055     -7.342      0.000      -0.510      -0.295\n",
       "Neighborhood_NoRidge     0.4347      0.070      6.221      0.000       0.298       0.572\n",
       "Neighborhood_StoneBr     0.4538      0.087      5.226      0.000       0.283       0.624\n",
       "Neighborhood_MeadowV    -0.6622      0.118     -5.592      0.000      -0.895      -0.430\n",
       "SaleType_New             0.1483      0.044      3.388      0.001       0.062       0.234\n",
       "Neighborhood_BrDale     -0.4733      0.123     -3.839      0.000      -0.715      -0.231\n",
       "MSZoning_RM              1.0820      0.147      7.363      0.000       0.794       1.370\n",
       "MSZoning_RL              0.9916      0.156      6.356      0.000       0.686       1.298\n",
       "MSZoning_FV              1.2052      0.165      7.284      0.000       0.881       1.530\n",
       "MSZoning_RH              0.8503      0.189      4.490      0.000       0.479       1.222\n",
       "Neighborhood_NWAmes     -0.2055      0.054     -3.837      0.000      -0.311      -0.100\n",
       "Neighborhood_Mitchel    -0.1943      0.065     -3.004      0.003      -0.321      -0.067\n",
       "Neighborhood_SawyerW    -0.1666      0.058     -2.862      0.004      -0.281      -0.052\n",
       "==============================================================================\n",
       "Omnibus:                      295.535   Durbin-Watson:                   1.965\n",
       "Prob(Omnibus):                  0.000   Jarque-Bera (JB):             1270.571\n",
       "Skew:                          -0.903   Prob(JB):                    1.26e-276\n",
       "Kurtosis:                       7.198   Cond. No.                         48.7\n",
       "==============================================================================\n",
       "\n",
       "Warnings:\n",
       "[1] Standard Errors assume that the covariance matrix of the errors is correctly specified.\n",
       "\"\"\""
      ]
     },
     "execution_count": 4,
     "metadata": {},
     "output_type": "execute_result"
    }
   ],
   "source": [
    "import statsmodels.api as sm\n",
    "\n",
    "x_int = sm.add_constant(x[res])\n",
    "model = sm.OLS(y, x_int).fit()\n",
    "model.summary()"
   ]
  },
  {
   "cell_type": "markdown",
   "metadata": {},
   "source": [
    "## Use Feature ranking with recursive feature elimination"
   ]
  },
  {
   "cell_type": "markdown",
   "metadata": {},
   "source": [
    "Use feature ranking to select the 5 most important features"
   ]
  },
  {
   "cell_type": "code",
   "execution_count": 5,
   "metadata": {
    "scrolled": true
   },
   "outputs": [
    {
     "data": {
      "text/plain": [
       "array([False, False, False, False, False, False, False, False, False,\n",
       "       False, False, False, False, False, False, False, False, False,\n",
       "        True,  True,  True,  True, False, False, False, False, False,\n",
       "       False, False, False, False, False, False, False, False, False,\n",
       "       False,  True, False, False, False, False, False, False, False,\n",
       "       False, False])"
      ]
     },
     "execution_count": 5,
     "metadata": {},
     "output_type": "execute_result"
    }
   ],
   "source": [
    "from sklearn.feature_selection import RFE\n",
    "from sklearn.linear_model import LinearRegression\n",
    "\n",
    "linreg = LinearRegression()\n",
    "selector = RFE(linreg, n_features_to_select=5)\n",
    "selector = selector.fit(x, y)\n",
    "selector.support_ "
   ]
  },
  {
   "cell_type": "markdown",
   "metadata": {},
   "source": [
    "Fit the linear regression model again using the 5 selected columns"
   ]
  },
  {
   "cell_type": "code",
   "execution_count": 6,
   "metadata": {},
   "outputs": [
    {
     "data": {
      "text/plain": [
       "LinearRegression()"
      ]
     },
     "execution_count": 6,
     "metadata": {},
     "output_type": "execute_result"
    }
   ],
   "source": [
    "selected_columns = x.columns[selector.support_]\n",
    "linreg.fit(x[selected_columns], y)"
   ]
  },
  {
   "cell_type": "markdown",
   "metadata": {},
   "source": [
    "Now, predict $\\hat y$ using your model. You can use `.predict()` in scikit-learn. "
   ]
  },
  {
   "cell_type": "code",
   "execution_count": 7,
   "metadata": {},
   "outputs": [],
   "source": [
    "ym = linreg.predict(x[selected_columns])"
   ]
  },
  {
   "cell_type": "markdown",
   "metadata": {},
   "source": [
    "Now, using the formulas of R-squared and adjusted R-squared below, and your Python/numpy knowledge, compute them and contrast them with the R-squared and adjusted R-squared in your statsmodels output using stepwise selection. Which of the two models would you prefer?\n",
    "\n",
    "$SS_{residual} = \\sum (y - \\hat{y})^2 $\n",
    "\n",
    "$SS_{total} = \\sum (y - \\bar{y})^2 $\n",
    "\n",
    "$R^2 = 1- \\dfrac{SS_{residual}}{SS_{total}}$\n",
    "\n",
    "$R^2_{adj}= 1-(1-R^2)\\dfrac{n-1}{n-p-1}$"
   ]
  },
  {
   "cell_type": "code",
   "execution_count": 8,
   "metadata": {},
   "outputs": [
    {
     "data": {
      "text/plain": [
       "(0.23943418177114217, 0.2368187559863112)"
      ]
     },
     "execution_count": 8,
     "metadata": {},
     "output_type": "execute_result"
    }
   ],
   "source": [
    "SS_Residual = np.sum((y-ym)**2)\n",
    "SS_Total = np.sum((y-np.mean(y))**2)\n",
    "r_squared = 1-(float(SS_Residual))/SS_Total\n",
    "adjusted_r_squared = 1-(1-r_squared)*(len(y)-1)/(len(y)-x[selected_columns].shape[1]-1)\n",
    "\n",
    "# r_squared is 0.239434  \n",
    "# adjusted_r_squared is 0.236818\n",
    "r_squared,adjusted_r_squared"
   ]
  },
  {
   "cell_type": "markdown",
   "metadata": {},
   "source": [
    "## Level up (Optional)\n",
    "\n",
    "- Perform variable selection using forward selection, using this resource: https://planspace.org/20150423-forward_selection_with_statsmodels/. Note that this time features are added based on the adjusted R-squared!\n",
    "- Tweak the code in the `stepwise_selection()` function written above to just perform forward selection based on the p-value "
   ]
  },
  {
   "cell_type": "code",
   "execution_count": 9,
   "metadata": {},
   "outputs": [],
   "source": [
    "import statsmodels.formula.api as smf\n",
    "\n",
    "def forward_selected(data, response):\n",
    "    \"\"\"Linear model designed by forward selection.\n",
    "\n",
    "    Parameters:\n",
    "    -----------\n",
    "    data : pandas DataFrame with all possible predictors and response\n",
    "\n",
    "    response: string, name of response column in data\n",
    "\n",
    "    Returns:\n",
    "    --------\n",
    "    model: an \"optimal\" fitted statsmodels linear model\n",
    "           with an intercept\n",
    "           selected by forward selection\n",
    "           evaluated by adjusted R-squared\n",
    "    \"\"\"\n",
    "    remaining = set(data.columns)\n",
    "    remaining.remove(response)\n",
    "    selected = []\n",
    "    current_score, best_new_score = 0.0, 0.0\n",
    "    while remaining and current_score == best_new_score:\n",
    "        scores_with_candidates = []\n",
    "        for candidate in remaining:\n",
    "            formula = \"{} ~ {} + 1\".format(response, ' + '.join(selected + [candidate]))\n",
    "            score = smf.ols(formula, data).fit().rsquared_adj\n",
    "            scores_with_candidates.append((score, candidate))\n",
    "        scores_with_candidates.sort()\n",
    "        best_new_score, best_candidate = scores_with_candidates.pop()\n",
    "        if current_score < best_new_score:\n",
    "            remaining.remove(best_candidate)\n",
    "            selected.append(best_candidate)\n",
    "            current_score = best_new_score\n",
    "    formula = \"{} ~ {} + 1\".format(response, ' + '.join(selected))\n",
    "    model = smf.ols(formula, data).fit()\n",
    "    return model"
   ]
  },
  {
   "cell_type": "code",
   "execution_count": 10,
   "metadata": {},
   "outputs": [],
   "source": [
    "preprocessed.rename(columns={'1stFlrSF_log':'stFlrSF_log'}, inplace=True)"
   ]
  },
  {
   "cell_type": "code",
   "execution_count": 11,
   "metadata": {},
   "outputs": [
    {
     "data": {
      "text/plain": [
       "0.8344715728761254"
      ]
     },
     "execution_count": 11,
     "metadata": {},
     "output_type": "execute_result"
    }
   ],
   "source": [
    "model = forward_selected(preprocessed, 'SalePrice_log')\n",
    "model.rsquared_adj"
   ]
  },
  {
   "cell_type": "code",
   "execution_count": 12,
   "metadata": {},
   "outputs": [
    {
     "data": {
      "text/plain": [
       "'SalePrice_log ~ GrLivArea_log + KitchenQual_TA + stFlrSF_log + KitchenQual_Fa + Neighborhood_OldTown + KitchenQual_Gd + Neighborhood_Edwards + Neighborhood_IDOTRR + LotArea_log + Neighborhood_NridgHt + BldgType_Duplex + Neighborhood_NAmes + Neighborhood_SWISU + Neighborhood_BrkSide + Neighborhood_Sawyer + Neighborhood_NoRidge + Neighborhood_Somerst + Neighborhood_StoneBr + Neighborhood_MeadowV + SaleType_New + SaleType_WD + Neighborhood_BrDale + MSZoning_RM + MSZoning_RL + MSZoning_FV + MSZoning_RH + Neighborhood_NWAmes + Neighborhood_Mitchel + Neighborhood_SawyerW + SaleType_Con + Neighborhood_ClearCr + BldgType_2fmCon + SaleType_ConLD + Neighborhood_Veenker + Street_Pave + BldgType_Twnhs + Neighborhood_Timber + 1'"
      ]
     },
     "execution_count": 12,
     "metadata": {},
     "output_type": "execute_result"
    }
   ],
   "source": [
    "model.model.formula"
   ]
  },
  {
   "cell_type": "markdown",
   "metadata": {},
   "source": [
    "## Summary\n",
    "Great! You practiced your feature selection skills by applying stepwise selection and recursive feature elimination to the Ames Housing dataset! "
   ]
  }
 ],
 "metadata": {
  "kernelspec": {
   "display_name": "Python 3",
   "language": "python",
   "name": "python3"
  },
  "language_info": {
   "codemirror_mode": {
    "name": "ipython",
    "version": 3
   },
   "file_extension": ".py",
   "mimetype": "text/x-python",
   "name": "python",
   "nbconvert_exporter": "python",
   "pygments_lexer": "ipython3",
   "version": "3.8.3"
  },
  "toc": {
   "base_numbering": 1,
   "nav_menu": {},
   "number_sections": true,
   "sideBar": true,
   "skip_h1_title": false,
   "title_cell": "Table of Contents",
   "title_sidebar": "Contents",
   "toc_cell": false,
   "toc_position": {},
   "toc_section_display": true,
   "toc_window_display": false
  }
 },
 "nbformat": 4,
 "nbformat_minor": 2
}
